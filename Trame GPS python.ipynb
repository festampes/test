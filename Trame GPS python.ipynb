{
 "cells": [
  {
   "cell_type": "markdown",
   "metadata": {},
   "source": [
    "# Activité Trame GPS et codage Python. Partie programmation"
   ]
  },
  {
   "cell_type": "markdown",
   "metadata": {},
   "source": [
    "*. <img \n",
    "  src=\"data:image/jpeg;base64,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\" width=25>  Vous allez être ici en direct avec du code Python, vous allez devoir observer celui-ci,cliquer sur la ligne où le code est écrit, le modifier si nécessaire et l'éxécuter en appuyant sur les touches **Maj+Entrée**.*\n",
    "\n",
    "\n",
    "\n"
   ]
  },
  {
   "cell_type": "markdown",
   "metadata": {},
   "source": [
    "1. Premier exemple. Exécutez du code suivant:"
   ]
  },
  {
   "cell_type": "code",
   "execution_count": 3,
   "metadata": {},
   "outputs": [
    {
     "name": "stdout",
     "output_type": "stream",
     "text": [
      "$GPGGA\n",
      "\n",
      "012241.000\n",
      "\n",
      "2135.3214\n",
      "\n"
     ]
    }
   ],
   "source": [
    "Trame = \"$GPGGA,012241.000,2135.3214,N,00740.9373,E,1,04,3.2,200.2,M,,,,0000*32\"\n",
    "Champs=Trame.split(\",\")\n",
    "\n",
    "\n",
    "#Affichage des trois premiers champs.\n",
    "\n",
    "\n",
    "\n",
    "print(Champs[0])\n",
    "print()\n",
    "print(Champs[1])\n",
    "print()\n",
    "print(Champs[2])\n",
    "print()\n"
   ]
  },
  {
   "cell_type": "markdown",
   "metadata": {},
   "source": [
    "<b>Notes:</b> *Si tout se passe bien, Trois lignes avec informations devraient apparaître*"
   ]
  },
  {
   "cell_type": "markdown",
   "metadata": {},
   "source": [
    "2. Rajoutons un peu de code. **Rajoutez** où il faut dans le code suivant la ligne :   \n",
    "`print(\"Affichage du premier champ\")`"
   ]
  },
  {
   "cell_type": "code",
   "execution_count": null,
   "metadata": {},
   "outputs": [],
   "source": [
    "Trame = \"$GPGGA,012241.000,2135.3214,N,00740.9373,E,1,04,3.2,200.2,M,,,,0000*32\"\n",
    "Champs=Trame.split(\",\")\n",
    "\n",
    "\n",
    "#Affichage des trois premiers champs.\n",
    "\n",
    "\n",
    "\n",
    "print(Champs[0])\n",
    "print()\n",
    "print(Champs[1])\n",
    "print()\n",
    "print(Champs[2])\n",
    "print()\n"
   ]
  },
  {
   "cell_type": "markdown",
   "metadata": {},
   "source": [
    "3. Passons aux choses sérieuses. Débrouillez vous maintenant pour que le programme affiche:  \n",
    "`Affichage du premier champs:`  \n",
    "`$GPGGA`      \n",
    "`Affichage du deuxieme champs:`  \n",
    "`012241.000`    \n",
    "`Affichage du troisieme champs:`  \n",
    "`2135.3214`  \n",
    "\n",
    "\n"
   ]
  },
  {
   "cell_type": "code",
   "execution_count": null,
   "metadata": {},
   "outputs": [],
   "source": [
    "Trame = \"$GPGGA,012241.000,2135.3214,N,00740.9373,E,1,04,3.2,200.2,M,,,,0000*32\"\n",
    "Champs=Trame.split(\",\")\n",
    "\n",
    "\n",
    "#Affichage des trois premiers champs.\n",
    "\n",
    "\n",
    "\n",
    "print(Champs[0])\n",
    "print()\n",
    "print(Champs[1])\n",
    "print()\n",
    "print(Champs[2])\n",
    "print()\n"
   ]
  },
  {
   "cell_type": "markdown",
   "metadata": {},
   "source": [
    "<img src=\"https://image.flaticon.com/icons/png/512/90/90477.png\" width=30> Une fois réalisé, appelez le professeur pour vérification. <img src=\"https://image.flaticon.com/icons/png/512/90/90477.png\" width=30> \n",
    "## Appel professeur n°1"
   ]
  },
  {
   "cell_type": "markdown",
   "metadata": {},
   "source": [
    "Les questions 4 sont à faire dans la ligne de code ci-dessous."
   ]
  },
  {
   "cell_type": "code",
   "execution_count": 8,
   "metadata": {},
   "outputs": [],
   "source": [
    "# ESPACE DE TRAVAIL QUESTION4; Collez le code des questions 4 ici: \n",
    "\n",
    "\n",
    "\n"
   ]
  },
  {
   "cell_type": "markdown",
   "metadata": {},
   "source": [
    "4. a. Copiez le programme réalisé à la question 3 et collez le dans l'espace de travail de la question 4."
   ]
  },
  {
   "cell_type": "markdown",
   "metadata": {},
   "source": [
    "4. b. Rajoutez ces trois lignes à la fin de ce code et modifier le [?] avec la bonne valeur de champs à tester."
   ]
  },
  {
   "cell_type": "code",
   "execution_count": null,
   "metadata": {},
   "outputs": [],
   "source": [
    "if champs[?]==\"$GPGGA\":\n",
    "    print(\"Le premier champs indique que:\")\n",
    "    print(\"C'est une trame NMEA.\")"
   ]
  },
  {
   "cell_type": "markdown",
   "metadata": {},
   "source": [
    "<img src=\"https://image.flaticon.com/icons/png/512/90/90477.png\" width=30> Une fois réalisé, appelez le professeur pour vérification. <img src=\"https://image.flaticon.com/icons/png/512/90/90477.png\" width=30> \n",
    "## Appel professeur n°2"
   ]
  },
  {
   "cell_type": "markdown",
   "metadata": {},
   "source": [
    "4. c. **Modifiez** votre code pour faire apparaître l'alitutde du satellite."
   ]
  },
  {
   "cell_type": "markdown",
   "metadata": {},
   "source": [
    "<img src=\"https://image.flaticon.com/icons/png/512/90/90477.png\" width=30> Une fois réalisé, appelez le professeur pour vérification. <img src=\"https://image.flaticon.com/icons/png/512/90/90477.png\" width=30> \n",
    "## Appel professeur n°3\n"
   ]
  },
  {
   "cell_type": "markdown",
   "metadata": {},
   "source": [
    "<center> <b> Travail terminé, félicitations </b> </center>"
   ]
  },
  {
   "cell_type": "code",
   "execution_count": null,
   "metadata": {},
   "outputs": [],
   "source": []
  }
 ],
 "metadata": {
  "kernelspec": {
   "display_name": "Python 3",
   "language": "python",
   "name": "python3"
  },
  "language_info": {
   "codemirror_mode": {
    "name": "ipython",
    "version": 3
   },
   "file_extension": ".py",
   "mimetype": "text/x-python",
   "name": "python",
   "nbconvert_exporter": "python",
   "pygments_lexer": "ipython3",
   "version": "3.8.5"
  }
 },
 "nbformat": 4,
 "nbformat_minor": 4
}
